{
 "cells": [
  {
   "cell_type": "markdown",
   "id": "a3732ca3",
   "metadata": {},
   "source": [
    "<h6> Importing libraries </h6>"
   ]
  },
  {
   "cell_type": "code",
   "execution_count": 1,
   "id": "190a8f5b",
   "metadata": {},
   "outputs": [],
   "source": [
    "import numpy as np \n",
    "import pandas as pd\n",
    "import os\n",
    "import math\n",
    "from sympy import *"
   ]
  },
  {
   "cell_type": "markdown",
   "id": "acc67f63",
   "metadata": {},
   "source": [
    "<p><font color =\"red\">Links used :</font color><p>\n",
    "<p><font color =\"red\"> https://predictivehacks.com/newton-raphson-method-in-python/ </font color><p>"
   ]
  },
  {
   "cell_type": "markdown",
   "id": "b4e113fa",
   "metadata": {},
   "source": [
    "<h6> Code for designing and obtaining the diameter of culvert </h6>"
   ]
  },
  {
   "cell_type": "markdown",
   "id": "e3cc808b",
   "metadata": {},
   "source": [
    "<h6> Equations </h6>\n",
    "<p> f(D) = D**5-12*D**4 + ((16*q**2/((math.pi)**2 * C**2 * g </p>"
   ]
  },
  {
   "cell_type": "code",
   "execution_count": 3,
   "id": "18d76225",
   "metadata": {},
   "outputs": [],
   "source": [
    "D = symbols('D')"
   ]
  },
  {
   "cell_type": "code",
   "execution_count": 10,
   "id": "5efe4148",
   "metadata": {},
   "outputs": [],
   "source": [
    "q = 40 #in cfs\n",
    "C = 0.6\n",
    "g = 32.2 #in ft/s^2"
   ]
  },
  {
   "cell_type": "code",
   "execution_count": 11,
   "id": "b08c7dd6",
   "metadata": {},
   "outputs": [],
   "source": [
    "F = (D**5)-(12*D**4) + ((16*q**2/((math.pi)**2 * C**2 * g))) #Given equation"
   ]
  },
  {
   "cell_type": "code",
   "execution_count": 37,
   "id": "aa489514",
   "metadata": {},
   "outputs": [
    {
     "data": {
      "text/latex": [
       "$\\displaystyle 5 D^{4} - 48 D^{3}$"
      ],
      "text/plain": [
       "5*D**4 - 48*D**3"
      ]
     },
     "execution_count": 37,
     "metadata": {},
     "output_type": "execute_result"
    }
   ],
   "source": [
    "Fd = F.diff(D) #Conducting derivative of equation\n",
    "Fd"
   ]
  },
  {
   "cell_type": "code",
   "execution_count": 38,
   "id": "07f26314",
   "metadata": {},
   "outputs": [
    {
     "data": {
      "text/latex": [
       "$\\displaystyle -1895.3275$"
      ],
      "text/plain": [
       "-1895.32750000000"
      ]
     },
     "execution_count": 38,
     "metadata": {},
     "output_type": "execute_result"
    }
   ],
   "source": [
    "Fd.evalf(subs= {D:4.1}) #finding the derivative of F for 4.1"
   ]
  },
  {
   "cell_type": "code",
   "execution_count": null,
   "id": "db6dd216",
   "metadata": {},
   "outputs": [],
   "source": []
  },
  {
   "cell_type": "markdown",
   "id": "be4adb5f",
   "metadata": {},
   "source": [
    "<h6>Finding the root of the equation by using Newton Raphson Method </h6>"
   ]
  },
  {
   "cell_type": "code",
   "execution_count": 39,
   "id": "66c63a4f",
   "metadata": {},
   "outputs": [
    {
     "name": "stdout",
     "output_type": "stream",
     "text": [
      "The 1 iteration Dn is 4.1 and f(Dn) is -1.9e+03\n",
      "The 2 iteration Dn is 3.0 and f(Dn) is -5.2e+02\n",
      "The 3 iteration Dn is 2.4 and f(Dn) is -1.2e+02\n",
      "The 4 iteration Dn is 2.2 and f(Dn) is -1.3e+01\n",
      "The 5 iteration Dn is 2.2 and f(Dn) is -0.26\n",
      "The 6 iteration Dn is 2.2 and f(Dn) is -0.00011\n",
      "The 7 iteration Dn is 2.2 and f(Dn) is -2e-11\n",
      "The 8 iteration Dn is 2.2 and f(Dn) is -6.6e-14\n",
      "The 9 iteration Dn is 2.2 and f(Dn) is -6.6e-14\n",
      "The 10 iteration Dn is 2.2 and f(Dn) is -6.6e-14\n"
     ]
    }
   ],
   "source": [
    "Dn = 6\n",
    "for i in range(10):\n",
    "    Dn = Dn - np.float64(F.evalf(subs= {D:Dn})) / np.float64(Fd.evalf(subs= {D:Dn}))\n",
    "    print(f'The {i+1} iteration Dn is {Dn:.2} and f(Dn) is {np.float64(F.evalf(subs= {D:Dn})):.2}')"
   ]
  },
  {
   "cell_type": "markdown",
   "id": "1ac03528",
   "metadata": {},
   "source": [
    "<h6> So, since the first iteration matches the value of derivative of F(D), I  considered the culvert diameter to be 4.1ft </h6>"
   ]
  },
  {
   "cell_type": "code",
   "execution_count": null,
   "id": "0a63bb3f",
   "metadata": {},
   "outputs": [],
   "source": []
  }
 ],
 "metadata": {
  "kernelspec": {
   "display_name": "Python 3 (ipykernel)",
   "language": "python",
   "name": "python3"
  },
  "language_info": {
   "codemirror_mode": {
    "name": "ipython",
    "version": 3
   },
   "file_extension": ".py",
   "mimetype": "text/x-python",
   "name": "python",
   "nbconvert_exporter": "python",
   "pygments_lexer": "ipython3",
   "version": "3.9.12"
  }
 },
 "nbformat": 4,
 "nbformat_minor": 5
}
